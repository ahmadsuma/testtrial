{
 "cells": [
  {
   "cell_type": "markdown",
   "id": "49033c29-e04a-464a-9be1-a4aa947324ce",
   "metadata": {},
   "source": [
    "<h1> My Jupyter Notebook on IBM Watson Studio <h1>"
   ]
  },
  {
   "cell_type": "markdown",
   "id": "f2b9f98e-b882-4894-9a29-46b25b9a1b41",
   "metadata": {},
   "source": [
    "<h2> Muh Eka K <h2>\n",
    "<h2> Ocupate : Data Science <h2>"
   ]
  },
  {
   "cell_type": "markdown",
   "id": "989ebd04-d334-47f3-9d63-83891340de87",
   "metadata": {},
   "source": [
    "I am interested in data science because interisting for calculate"
   ]
  },
  {
   "cell_type": "markdown",
   "id": "84e9597b-4d8d-4b23-a185-1751f95cc435",
   "metadata": {},
   "source": [
    "Python for Calculate"
   ]
  },
  {
   "cell_type": "code",
   "execution_count": 5,
   "id": "0bd5dff8-bd6b-4850-bed9-91951a2c4c6b",
   "metadata": {},
   "outputs": [
    {
     "data": {
      "text/plain": [
       "99"
      ]
     },
     "execution_count": 5,
     "metadata": {},
     "output_type": "execute_result"
    }
   ],
   "source": [
    "90+9"
   ]
  }
 ],
 "metadata": {
  "kernelspec": {
   "display_name": "Python",
   "language": "python",
   "name": "conda-env-python-py"
  },
  "language_info": {
   "codemirror_mode": {
    "name": "ipython",
    "version": 3
   },
   "file_extension": ".py",
   "mimetype": "text/x-python",
   "name": "python",
   "nbconvert_exporter": "python",
   "pygments_lexer": "ipython3",
   "version": "3.7.12"
  }
 },
 "nbformat": 4,
 "nbformat_minor": 5
}
